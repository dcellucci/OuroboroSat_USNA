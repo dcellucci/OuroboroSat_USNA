{
 "cells": [
  {
   "cell_type": "code",
   "execution_count": 1,
   "metadata": {
    "collapsed": false
   },
   "outputs": [
    {
     "name": "stdout",
     "output_type": "stream",
     "text": [
      "Populating the interactive namespace from numpy and matplotlib\n"
     ]
    }
   ],
   "source": [
    "%pylab inline"
   ]
  },
  {
   "cell_type": "markdown",
   "metadata": {},
   "source": [
    "# OuroboroSat LT3652 Setup"
   ]
  },
  {
   "cell_type": "markdown",
   "metadata": {},
   "source": [
    "Characteristics:\n",
    "\n",
    " * up to 28 TriSolX solar cells each with 2.33V and 14.6 mA\n",
    " * 3-cell LiFePO4 (14.4V float), 400 mAh size"
   ]
  },
  {
   "cell_type": "markdown",
   "metadata": {},
   "source": [
    "![Schematic Ref](media/lt3652_schematic.png)"
   ]
  },
  {
   "cell_type": "markdown",
   "metadata": {},
   "source": [
    "## Component Selection\n",
    "\n",
    "### Capacitors\n",
    "\n",
    " * **C1:** 1 uF capacitor, voltage drop between BOOST and SW is between 0V and 8.5V\n",
    " * **C2:** > 2.88 uF capacitance rated for 0.2 A current \n",
    " * **C3:** 10 uF ceramic capacitor\n",
    " \n",
    "### Diodes\n",
    " * **D1:**\n",
    "    * Conventional Diode\n",
    "    * Average Current Rating > 0.1 A\n",
    "    * Reverse Voltage > 20.97 V\n",
    " * **D2:** \n",
    "    * Schottky Diode\n",
    "    * Lowest Forward Voltage Possible \n",
    "    * Reverse Voltage > 20.97 V (max expected Vin)\n",
    "    * Diode Current Rating: 0.1984 A\n",
    " * **D3:**\n",
    "    * Zener Diode\n",
    "    * Current rating > 100 mA \n",
    "\n",
    "### Resistors\n",
    " * **R1:** 0.25 $\\Omega$ \n",
    " * **R2:**"
   ]
  },
  {
   "cell_type": "code",
   "execution_count": 52,
   "metadata": {
    "collapsed": false
   },
   "outputs": [
    {
     "name": "stdout",
     "output_type": "stream",
     "text": [
      "C2 Capacitance: 2.88 uF\n",
      "C2 current: 0.2 A\n",
      "C3 Capacitance: 10 uF\n",
      "R1 resistance : 0.25 Ohm\n",
      "L1 inductance : 33.6 uH\n",
      "L1 Saturation Current : 0.46 A\n",
      "D2 Current Rate: 0.1984 A\n",
      "\n",
      "Feedback Resistor Network\n",
      "Resistor 1 (R4): 555000.0\n",
      "Resistor 2 (R5): 165000.0\n",
      "Resistor 3 (-): 122812.5\n"
     ]
    },
    {
     "data": {
      "text/plain": [
       "27.5"
      ]
     },
     "execution_count": 52,
     "metadata": {},
     "output_type": "execute_result"
    }
   ],
   "source": [
    "#Inputs: \n",
    "Vin = 20\n",
    "Vbatflt = 14.4\n",
    "Ichgmax = 0.4\n",
    "\n",
    "Icvin = Ichgmax/2.0\n",
    "Cinbulk = Ichgmax*Vbatflt/Vin/0.1\n",
    "\n",
    "print \"C2 Capacitance: {0} uF\".format(Cinbulk)\n",
    "print \"C2 current: {0} A\".format(Icvin)\n",
    "\n",
    "print \"C3 Capacitance: {0} uF\".format(10)\n",
    "\n",
    "rsen = 0.1/Ichgmax\n",
    "print \"R1 resistance : {0} Ohm\".format(rsen)\n",
    "\n",
    "L = 10*rsen/0.3*Vbatflt*(1-Vbatflt/Vin)\n",
    "ind_sat_cur = 1.15*Ichgmax\n",
    "\n",
    "print \"L1 inductance : {0} uH\".format(L)\n",
    "print \"L1 Saturation Current : {0} A\".format(ind_sat_cur)\n",
    "\n",
    "diode_cur_rate = Ichgmax*(Vin-0.7*Vbatflt)/Vin\n",
    "\n",
    "print \"D2 Current Rate: {0} A\".format(diode_cur_rate)\n",
    "\n",
    "rfb2rfb1 = 3.3/(14.4-3.3)\n",
    "\n",
    "irfb = 20e-6\n",
    "rfb2 = 3.3/irfb\n",
    "rfb1 = rfb2/rfb2rfb1\n",
    "rfb3 = 250e3-1.0/(1.0/rfb2+1.0/rfb1)\n",
    "\n",
    "print \"\\nFeedback Resistor Network\"\n",
    "print \"Resistor 1 (R4): {0}\".format(rfb1)\n",
    "print \"Resistor 2 (R5): {0}\".format(rfb2)\n",
    "print \"Resistor 3 (-): {0}\".format(rfb3)\n",
    "\n",
    "1/(1/330.0+1/30.0)"
   ]
  },
  {
   "cell_type": "markdown",
   "metadata": {
    "collapsed": true
   },
   "source": [
    "Candidate BOM:\n",
    "\n",
    "     L  : 732-4069-1-ND\n",
    "     R1 : "
   ]
  },
  {
   "cell_type": "code",
   "execution_count": 27,
   "metadata": {
    "collapsed": false
   },
   "outputs": [
    {
     "data": {
      "text/plain": [
       "0.04000000000000001"
      ]
     },
     "execution_count": 27,
     "metadata": {},
     "output_type": "execute_result"
    }
   ],
   "source": [
    "2.33*9\n",
    "0.25*0.4*0.4"
   ]
  },
  {
   "cell_type": "code",
   "execution_count": null,
   "metadata": {
    "collapsed": true
   },
   "outputs": [],
   "source": []
  }
 ],
 "metadata": {
  "anaconda-cloud": {},
  "kernelspec": {
   "display_name": "Python 2",
   "language": "python",
   "name": "python2"
  },
  "language_info": {
   "codemirror_mode": {
    "name": "ipython",
    "version": 2
   },
   "file_extension": ".py",
   "mimetype": "text/x-python",
   "name": "python",
   "nbconvert_exporter": "python",
   "pygments_lexer": "ipython2",
   "version": "2.7.9"
  }
 },
 "nbformat": 4,
 "nbformat_minor": 0
}
